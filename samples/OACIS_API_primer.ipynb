{
 "cells": [
  {
   "cell_type": "code",
   "execution_count": 1,
   "metadata": {
    "collapsed": false
   },
   "outputs": [
    {
     "data": {
      "text/plain": [
       "true"
      ]
     },
     "execution_count": 1,
     "metadata": {},
     "output_type": "execute_result"
    }
   ],
   "source": [
    "# First of all, you need to require the OACIS environment. Always run the following line before you call the OAICS APIs.\n",
    "require File.join(ENV['OACIS_ROOT'], 'config/environment')"
   ]
  },
  {
   "cell_type": "markdown",
   "metadata": {},
   "source": [
    "# Prerequisites\n",
    "\n",
    "Before running the following samples, please prepare a sample simulator as follows.\n",
    "\n",
    "- Name: `sample_simulator`\n",
    "- Parameter definitions:\n",
    "    - \"p1\", Float, 1.0\n",
    "    - \"p2\", Float, 2.0\n",
    "    - \"p3\", Float, 3.0\n",
    "- Command:\n",
    "    - `ruby -r json -e 'j = JSON.load(File.read(\"_input.json\")); sum=%w(p1 p2 p3).map{|k| j[k]}.inject(:+); puts({sum: sum}.to_json)' > _output.json`\n",
    "- Input type: JSON\n",
    "- Executable_on : localhost"
   ]
  },
  {
   "cell_type": "markdown",
   "metadata": {},
   "source": [
    "# Creating runs\n",
    "\n",
    "First, we show how to create parameter sets and runs."
   ]
  },
  {
   "cell_type": "code",
   "execution_count": 2,
   "metadata": {
    "collapsed": false
   },
   "outputs": [
    {
     "data": {
      "text/plain": [
       "#<ParameterSet _id: 58060d0b3192d59f5b14f03b, created_at: 2016-10-18 11:52:43 UTC, updated_at: 2016-10-18 11:52:43 UTC, v: {\"p1\"=>10.0, \"p2\"=>20.0, \"p3\"=>30.0}, runs_status_count_cache: nil, progress_rate_cache: nil, to_be_destroyed: false, simulator_id: BSON::ObjectId('58060cf93192d50d8b0bbad5')>"
      ]
     },
     "execution_count": 2,
     "metadata": {},
     "output_type": "execute_result"
    }
   ],
   "source": [
    "sim = Simulator.where(name: \"sample_simulator\").first\n",
    "ps = sim.find_or_create_parameter_set( {\"p1\"=>10.0, \"p2\"=>20.0, \"p3\"=>30.0} )  # created a parameter set"
   ]
  },
  {
   "cell_type": "code",
   "execution_count": 3,
   "metadata": {
    "collapsed": false
   },
   "outputs": [
    {
     "data": {
      "text/plain": [
       "[BSON::ObjectId('58060d0e3192d59f5b14f03c'), BSON::ObjectId('58060d0e3192d59f5b14f03d'), BSON::ObjectId('58060d0e3192d59f5b14f03e'), BSON::ObjectId('58060d0e3192d59f5b14f03f'), BSON::ObjectId('58060d0e3192d59f5b14f040')]"
      ]
     },
     "execution_count": 3,
     "metadata": {},
     "output_type": "execute_result"
    }
   ],
   "source": [
    "# When creating runs, you need to specify the host to which the jobs are submitted to.\n",
    "# We also need to set \"host_parameters\" which specify the parameters required by job schedulers.\n",
    "\n",
    "host = Host.where(name: \"localhost\").first\n",
    "host_param = host.default_host_parameters\n",
    "new_runs = ps.find_or_create_runs_upto(5, submitted_to: host, host_param: host_param )\n",
    "new_run_ids = new_runs.map(&:id)"
   ]
  },
  {
   "cell_type": "code",
   "execution_count": 4,
   "metadata": {
    "collapsed": false
   },
   "outputs": [
    {
     "data": {
      "text/plain": [
       "250"
      ]
     },
     "execution_count": 4,
     "metadata": {},
     "output_type": "execute_result"
    }
   ],
   "source": [
    "# A sample to make multiple parameter sets\n",
    "\n",
    "sim = Simulator.where(name: \"sample_simulator\").first\n",
    "\n",
    "p1_values = [1.0,2.0,3.0,4.0,5.0]                                         # a standard way to make an array\n",
    "p2_values = 2.0.step(20.0, 2.0)                                            # Numeric#step method is also useful to make an enumerator. 2.0, 4.0, 6.0, ... 20.0\n",
    "base_param = sim.default_parameters                                  # => {\"p1\"=>1.0, \"p2\"=>2.0, \"p3\"=>3.0}\n",
    "\n",
    "host = Host.where(name: \"localhost\").first\n",
    "host_param = host.default_host_parameters\n",
    "\n",
    "created = []\n",
    "\n",
    "# We are going to fix the parameters other than \"p1\" and \"p2\"\n",
    "p1_values.each do |p1|                  # iterate over p1\n",
    "  p2_values.each do |p2|                # iterate over p2\n",
    "    param = base_param.merge({\"p1\"=>p1,\"p2\"=>p2})    #   => {\"p1\"=>p1, \"p2\"=>p2, \"p3\"=>3.0}\n",
    "    ps = sim.find_or_create_parameter_set( param )          #   => ParameterSet of the given parameters\n",
    "    runs = ps.find_or_create_runs_upto(5, submitted_to: host, host_param: host_param)  # creating runs under given parameter sets\n",
    "    created += runs                           # pushing runs into an array to refer them later\n",
    "  end\n",
    "end\n",
    "\n",
    "created.size                                     # 250 runs are created in total"
   ]
  },
  {
   "cell_type": "markdown",
   "metadata": {},
   "source": [
    "# Getting the results\n",
    "\n",
    "Here, we are going to investigate the dependency of \"p1\" and \"p2\" against the results.\n",
    "Run the below cells after the above jobs are finished."
   ]
  },
  {
   "cell_type": "code",
   "execution_count": 7,
   "metadata": {
    "collapsed": false
   },
   "outputs": [
    {
     "name": "stdout",
     "output_type": "stream",
     "text": [
      "\"sample_simulator\"\n",
      "\"ruby -r json -e 'j = JSON.load(File.read(\\\"_input.json\\\")); sum=%w(p1 p2 p3).map{|k| j[k]}.inject(:+); puts({sum: sum}.to_json)' > _output.json\"\n",
      "[\"localhost\"]\n",
      "255\n",
      "255\n"
     ]
    },
    {
     "data": {
      "text/plain": [
       "255"
      ]
     },
     "execution_count": 7,
     "metadata": {},
     "output_type": "execute_result"
    }
   ],
   "source": [
    "# First, let us try to get runs by specifying parameters.\n",
    "sim = Simulator.where(name: \"sample_simulator\").first\n",
    "\n",
    "# Accessing the attributes of simulator\n",
    "p sim.name\n",
    "p sim.command\n",
    "p sim.executable_on.map(&:name)\n",
    "\n",
    "# count the number of runs of this simulator\n",
    "p sim.runs.count\n",
    "p sim.runs.where(status: :finished).count"
   ]
  },
  {
   "cell_type": "code",
   "execution_count": 8,
   "metadata": {
    "collapsed": false
   },
   "outputs": [
    {
     "name": "stdout",
     "output_type": "stream",
     "text": [
      "BSON::ObjectId('58060d113192d59f5b14f041')\n",
      "{\"p1\"=>1.0, \"p2\"=>2.0, \"p3\"=>3.0}\n",
      "5\n",
      "5\n",
      "[6.0, 5]\n"
     ]
    },
    {
     "data": {
      "text/plain": [
       "[6.0, 5]"
      ]
     },
     "execution_count": 8,
     "metadata": {},
     "output_type": "execute_result"
    }
   ],
   "source": [
    "# ParameterSet of {p1: 1.0, p2: 2.0, p3: 3.0}\n",
    "sim = Simulator.where(name: \"sample_simulator\").first\n",
    "ps = sim.find_parameter_set( p1: 1.0, p2: 2.0, p3: 3.0 )\n",
    "\n",
    "#  Here are some examples of fields of ParameterSet\n",
    "p ps.id\n",
    "p ps.v                                                                         # values of parameters are stored in the field `v` as a Hash\n",
    "p ps.runs.count                                                         # number of runs\n",
    "p ps.runs.where( status: :finished ).count            # number of finished runs\n",
    "p ps.average_result(\"sum\")                                   # => [6.0, 5].  It returns the average of result[\"sum\"] and the number of runs"
   ]
  },
  {
   "cell_type": "code",
   "execution_count": 9,
   "metadata": {
    "collapsed": false
   },
   "outputs": [
    {
     "name": "stdout",
     "output_type": "stream",
     "text": [
      "BSON::ObjectId('58060d113192d59f5b14f042')\n",
      ":finished\n",
      "{\"sum\"=>6.0}\n",
      "0.03\n",
      "Tue, 18 Oct 2016 11:53:01 +0000\n",
      "#<Pathname:/Users/murase/work/oacis/public/Result_development/58060cf93192d50d8b0bbad5/58060d113192d59f5b14f041/58060d113192d59f5b14f042>\n"
     ]
    },
    {
     "data": {
      "text/plain": [
       "#<Pathname:/Users/murase/work/oacis/public/Result_development/58060cf93192d50d8b0bbad5/58060d113192d59f5b14f041/58060d113192d59f5b14f042>"
      ]
     },
     "execution_count": 9,
     "metadata": {},
     "output_type": "execute_result"
    }
   ],
   "source": [
    "# Get a Run\n",
    "sim = Simulator.where(name: \"sample_simulator\").first\n",
    "ps = sim.find_parameter_set( p1: 1.0, p2: 2.0, p3: 3.0 )\n",
    "run = ps.runs.first\n",
    "\n",
    "# Here are some examples of fields of Run\n",
    "p run.id                               # returns ID\n",
    "p run.status                       # status can be either [:created, :submitted, :running, :failed, :finished]\n",
    "p run.result                        # =>{\"sum\"=>6.0}   If the simulator print `_output.json` during the job, the contents of the file are stored in this field.\n",
    "p run.cpu_time                  # `cpu_time` and `real_time`  methods are available to get the CPU and elapsed times.\n",
    "p run.finished_at               # the datetime when the job is finished.\n",
    "p run.dir                              # return the directory where the simulation results are stored."
   ]
  },
  {
   "cell_type": "code",
   "execution_count": 10,
   "metadata": {
    "collapsed": false
   },
   "outputs": [
    {
     "name": "stdout",
     "output_type": "stream",
     "text": [
      "p2 == 10.0 and p3 == 3.0\n",
      "{\"p1\"=>1.0, \"p2\"=>10.0, \"p3\"=>3.0}\n",
      "{\"p1\"=>2.0, \"p2\"=>10.0, \"p3\"=>3.0}\n",
      "{\"p1\"=>3.0, \"p2\"=>10.0, \"p3\"=>3.0}\n",
      "{\"p1\"=>5.0, \"p2\"=>10.0, \"p3\"=>3.0}\n",
      "{\"p1\"=>4.0, \"p2\"=>10.0, \"p3\"=>3.0}\n",
      "\n",
      "p1 <= 2 and p2 > 15.0 and p3 == 3.0\n",
      "{\"p1\"=>1.0, \"p2\"=>20.0, \"p3\"=>3.0}\n",
      "{\"p1\"=>1.0, \"p2\"=>18.0, \"p3\"=>3.0}\n",
      "{\"p1\"=>1.0, \"p2\"=>16.0, \"p3\"=>3.0}\n",
      "{\"p1\"=>2.0, \"p2\"=>16.0, \"p3\"=>3.0}\n",
      "{\"p1\"=>2.0, \"p2\"=>18.0, \"p3\"=>3.0}\n",
      "{\"p1\"=>2.0, \"p2\"=>20.0, \"p3\"=>3.0}\n",
      "\n",
      "p1 is in [2,4] and 4.5 and p2==20\n",
      "{\"p1\"=>2.0, \"p2\"=>20.0, \"p3\"=>3.0}\n",
      "{\"p1\"=>4.0, \"p2\"=>20.0, \"p3\"=>3.0}\n",
      "\n",
      "p1 <= 3 and p2 <= 6.0, ordered by p1 in ascending order and p2 in descending order\n",
      "{\"p1\"=>1.0, \"p2\"=>2.0, \"p3\"=>3.0}\n",
      "{\"p1\"=>1.0, \"p2\"=>4.0, \"p3\"=>3.0}\n",
      "{\"p1\"=>1.0, \"p2\"=>6.0, \"p3\"=>3.0}\n",
      "{\"p1\"=>2.0, \"p2\"=>2.0, \"p3\"=>3.0}\n",
      "{\"p1\"=>2.0, \"p2\"=>4.0, \"p3\"=>3.0}\n",
      "{\"p1\"=>2.0, \"p2\"=>6.0, \"p3\"=>3.0}\n",
      "{\"p1\"=>3.0, \"p2\"=>2.0, \"p3\"=>3.0}\n",
      "{\"p1\"=>3.0, \"p2\"=>4.0, \"p3\"=>3.0}\n",
      "{\"p1\"=>3.0, \"p2\"=>6.0, \"p3\"=>3.0}\n",
      "\n"
     ]
    }
   ],
   "source": [
    "# Search parameter sets by condition\n",
    "sim = Simulator.where(name: \"sample_simulator\").first\n",
    "\n",
    "# The followings are some example queries which you might find useful.\n",
    "# Since a ParameterSet contains the parameters in the field of `v`, you need to issue an query against `v`.\n",
    "# See http://www.rubydoc.info/github/mongoid/origin/Origin/Selectable\n",
    "\n",
    "# Find ParameterSets where p2 is 10.0 and p3 is 3.0.\n",
    "puts \"p2 == 10.0 and p3 == 3.0\"\n",
    "sim.parameter_sets.where( \"v.p2\"=> 10.0, \"v.p3\" => 3.0 ).each {|ps| p ps.v }\n",
    "puts \"\"\n",
    "\n",
    "# examples of other conditions, such as \">=\" or \">\".\n",
    "puts \"p1 <= 2 and p2 > 15.0 and p3 == 3.0\"\n",
    "sim.parameter_sets.lte( \"v.p1\"=> 2 ).gt( \"v.p2\" => 15.0 ).where(\"v.p3\" => 3.0).each {|ps| p ps.v }\n",
    "puts \"\"\n",
    "\n",
    "# p1 is in the range 2..4\"\n",
    "puts \"p1 is in [2,4] and 4.5 and p2==20\"\n",
    "sim.parameter_sets.in(\"v.p1\" => [2,4]).where(\"v.p2\" => 20).each {|ps| p ps.v }\n",
    "puts \"\"\n",
    "\n",
    "# sort by p1 in ascending order\n",
    "puts \"p1 <= 3 and p2 <= 6.0, ordered by p1 in ascending order and p2 in descending order\"\n",
    "sim.parameter_sets.lte( \"v.p1\" => 3, \"v.p2\" => 6.0 ).order_by(\"v.p1\" => :asc, \"v.p2\" => :dsc).each {|ps| p ps.v }\n",
    "puts \"\""
   ]
  },
  {
   "cell_type": "code",
   "execution_count": 32,
   "metadata": {
    "collapsed": false
   },
   "outputs": [
    {
     "data": {
      "image/svg+xml": [
       "<?xml version=\"1.0\" encoding=\"utf-8\"  standalone=\"no\"?>\n",
       "<!DOCTYPE svg PUBLIC \"-//W3C//DTD SVG 1.1//EN\"\n",
       " \"http://www.w3.org/Graphics/SVG/1.1/DTD/svg11.dtd\">\n",
       "<svg \n",
       " width=\"600\" height=\"480\"\n",
       " viewBox=\"0 0 600 480\"\n",
       " xmlns=\"http://www.w3.org/2000/svg\"\n",
       " xmlns:xlink=\"http://www.w3.org/1999/xlink\"\n",
       ">\n",
       "\n",
       "<title>Gnuplot</title>\n",
       "<desc>Produced by GNUPLOT 5.0 patchlevel 4 </desc>\n",
       "\n",
       "<g id=\"gnuplot_canvas\">\n",
       "\n",
       "<rect x=\"0\" y=\"0\" width=\"600\" height=\"480\" fill=\"none\"/>\n",
       "<defs>\n",
       "\n",
       "\t<circle id='gpDot' r='0.5' stroke-width='0.5'/>\n",
       "\t<path id='gpPt0' stroke-width='0.222' stroke='currentColor' d='M-1,0 h2 M0,-1 v2'/>\n",
       "\t<path id='gpPt1' stroke-width='0.222' stroke='currentColor' d='M-1,-1 L1,1 M1,-1 L-1,1'/>\n",
       "\t<path id='gpPt2' stroke-width='0.222' stroke='currentColor' d='M-1,0 L1,0 M0,-1 L0,1 M-1,-1 L1,1 M-1,1 L1,-1'/>\n",
       "\t<rect id='gpPt3' stroke-width='0.222' stroke='currentColor' x='-1' y='-1' width='2' height='2'/>\n",
       "\t<rect id='gpPt4' stroke-width='0.222' stroke='currentColor' fill='currentColor' x='-1' y='-1' width='2' height='2'/>\n",
       "\t<circle id='gpPt5' stroke-width='0.222' stroke='currentColor' cx='0' cy='0' r='1'/>\n",
       "\t<use xlink:href='#gpPt5' id='gpPt6' fill='currentColor' stroke='none'/>\n",
       "\t<path id='gpPt7' stroke-width='0.222' stroke='currentColor' d='M0,-1.33 L-1.33,0.67 L1.33,0.67 z'/>\n",
       "\t<use xlink:href='#gpPt7' id='gpPt8' fill='currentColor' stroke='none'/>\n",
       "\t<use xlink:href='#gpPt7' id='gpPt9' stroke='currentColor' transform='rotate(180)'/>\n",
       "\t<use xlink:href='#gpPt9' id='gpPt10' fill='currentColor' stroke='none'/>\n",
       "\t<use xlink:href='#gpPt3' id='gpPt11' stroke='currentColor' transform='rotate(45)'/>\n",
       "\t<use xlink:href='#gpPt11' id='gpPt12' fill='currentColor' stroke='none'/>\n",
       "\t<path id='gpPt13' stroke-width='0.222' stroke='currentColor' d='M0,1.330 L1.265,0.411 L0.782,-1.067 L-0.782,-1.076 L-1.265,0.411 z'/>\n",
       "\t<use xlink:href='#gpPt13' id='gpPt14' fill='currentColor' stroke='none'/>\n",
       "\t<filter id='textbox' filterUnits='objectBoundingBox' x='0' y='0' height='1' width='1'>\n",
       "\t  <feFlood flood-color='white' flood-opacity='1' result='bgnd'/>\n",
       "\t  <feComposite in='SourceGraphic' in2='bgnd' operator='atop'/>\n",
       "\t</filter>\n",
       "\t<filter id='greybox' filterUnits='objectBoundingBox' x='0' y='0' height='1' width='1'>\n",
       "\t  <feFlood flood-color='lightgrey' flood-opacity='1' result='grey'/>\n",
       "\t  <feComposite in='SourceGraphic' in2='grey' operator='atop'/>\n",
       "\t</filter>\n",
       "</defs>\n",
       "<g fill=\"none\" color=\"white\" stroke=\"currentColor\" stroke-width=\"1.00\" stroke-linecap=\"butt\" stroke-linejoin=\"miter\">\n",
       "</g>\n",
       "<g fill=\"none\" color=\"black\" stroke=\"currentColor\" stroke-width=\"1.00\" stroke-linecap=\"butt\" stroke-linejoin=\"miter\">\n",
       "\t<path stroke='black'  d='M63.6,422.4 L72.6,422.4 M575.0,422.4 L566.0,422.4  '/>\t<g transform=\"translate(55.3,426.9)\" stroke=\"none\" fill=\"black\" font-family=\"Arial\" font-size=\"12.00\"  text-anchor=\"end\">\n",
       "\t\t<text><tspan font-family=\"Arial\" > 6</tspan></text>\n",
       "\t</g>\n",
       "</g>\n",
       "<g fill=\"none\" color=\"black\" stroke=\"currentColor\" stroke-width=\"1.00\" stroke-linecap=\"butt\" stroke-linejoin=\"miter\">\n",
       "\t<path stroke='black'  d='M63.6,377.3 L72.6,377.3 M575.0,377.3 L566.0,377.3  '/>\t<g transform=\"translate(55.3,381.8)\" stroke=\"none\" fill=\"black\" font-family=\"Arial\" font-size=\"12.00\"  text-anchor=\"end\">\n",
       "\t\t<text><tspan font-family=\"Arial\" > 8</tspan></text>\n",
       "\t</g>\n",
       "</g>\n",
       "<g fill=\"none\" color=\"black\" stroke=\"currentColor\" stroke-width=\"1.00\" stroke-linecap=\"butt\" stroke-linejoin=\"miter\">\n",
       "\t<path stroke='black'  d='M63.6,332.2 L72.6,332.2 M575.0,332.2 L566.0,332.2  '/>\t<g transform=\"translate(55.3,336.7)\" stroke=\"none\" fill=\"black\" font-family=\"Arial\" font-size=\"12.00\"  text-anchor=\"end\">\n",
       "\t\t<text><tspan font-family=\"Arial\" > 10</tspan></text>\n",
       "\t</g>\n",
       "</g>\n",
       "<g fill=\"none\" color=\"black\" stroke=\"currentColor\" stroke-width=\"1.00\" stroke-linecap=\"butt\" stroke-linejoin=\"miter\">\n",
       "\t<path stroke='black'  d='M63.6,287.2 L72.6,287.2 M575.0,287.2 L566.0,287.2  '/>\t<g transform=\"translate(55.3,291.7)\" stroke=\"none\" fill=\"black\" font-family=\"Arial\" font-size=\"12.00\"  text-anchor=\"end\">\n",
       "\t\t<text><tspan font-family=\"Arial\" > 12</tspan></text>\n",
       "\t</g>\n",
       "</g>\n",
       "<g fill=\"none\" color=\"black\" stroke=\"currentColor\" stroke-width=\"1.00\" stroke-linecap=\"butt\" stroke-linejoin=\"miter\">\n",
       "\t<path stroke='black'  d='M63.6,242.1 L72.6,242.1 M575.0,242.1 L566.0,242.1  '/>\t<g transform=\"translate(55.3,246.6)\" stroke=\"none\" fill=\"black\" font-family=\"Arial\" font-size=\"12.00\"  text-anchor=\"end\">\n",
       "\t\t<text><tspan font-family=\"Arial\" > 14</tspan></text>\n",
       "\t</g>\n",
       "</g>\n",
       "<g fill=\"none\" color=\"black\" stroke=\"currentColor\" stroke-width=\"1.00\" stroke-linecap=\"butt\" stroke-linejoin=\"miter\">\n",
       "\t<path stroke='black'  d='M63.6,197.0 L72.6,197.0 M575.0,197.0 L566.0,197.0  '/>\t<g transform=\"translate(55.3,201.5)\" stroke=\"none\" fill=\"black\" font-family=\"Arial\" font-size=\"12.00\"  text-anchor=\"end\">\n",
       "\t\t<text><tspan font-family=\"Arial\" > 16</tspan></text>\n",
       "\t</g>\n",
       "</g>\n",
       "<g fill=\"none\" color=\"black\" stroke=\"currentColor\" stroke-width=\"1.00\" stroke-linecap=\"butt\" stroke-linejoin=\"miter\">\n",
       "\t<path stroke='black'  d='M63.6,151.9 L72.6,151.9 M575.0,151.9 L566.0,151.9  '/>\t<g transform=\"translate(55.3,156.4)\" stroke=\"none\" fill=\"black\" font-family=\"Arial\" font-size=\"12.00\"  text-anchor=\"end\">\n",
       "\t\t<text><tspan font-family=\"Arial\" > 18</tspan></text>\n",
       "\t</g>\n",
       "</g>\n",
       "<g fill=\"none\" color=\"black\" stroke=\"currentColor\" stroke-width=\"1.00\" stroke-linecap=\"butt\" stroke-linejoin=\"miter\">\n",
       "\t<path stroke='black'  d='M63.6,106.9 L72.6,106.9 M575.0,106.9 L566.0,106.9  '/>\t<g transform=\"translate(55.3,111.4)\" stroke=\"none\" fill=\"black\" font-family=\"Arial\" font-size=\"12.00\"  text-anchor=\"end\">\n",
       "\t\t<text><tspan font-family=\"Arial\" > 20</tspan></text>\n",
       "\t</g>\n",
       "</g>\n",
       "<g fill=\"none\" color=\"black\" stroke=\"currentColor\" stroke-width=\"1.00\" stroke-linecap=\"butt\" stroke-linejoin=\"miter\">\n",
       "\t<path stroke='black'  d='M63.6,61.8 L72.6,61.8 M575.0,61.8 L566.0,61.8  '/>\t<g transform=\"translate(55.3,66.3)\" stroke=\"none\" fill=\"black\" font-family=\"Arial\" font-size=\"12.00\"  text-anchor=\"end\">\n",
       "\t\t<text><tspan font-family=\"Arial\" > 22</tspan></text>\n",
       "\t</g>\n",
       "</g>\n",
       "<g fill=\"none\" color=\"black\" stroke=\"currentColor\" stroke-width=\"1.00\" stroke-linecap=\"butt\" stroke-linejoin=\"miter\">\n",
       "\t<path stroke='black'  d='M63.6,16.7 L72.6,16.7 M575.0,16.7 L566.0,16.7  '/>\t<g transform=\"translate(55.3,21.2)\" stroke=\"none\" fill=\"black\" font-family=\"Arial\" font-size=\"12.00\"  text-anchor=\"end\">\n",
       "\t\t<text><tspan font-family=\"Arial\" > 24</tspan></text>\n",
       "\t</g>\n",
       "</g>\n",
       "<g fill=\"none\" color=\"black\" stroke=\"currentColor\" stroke-width=\"1.00\" stroke-linecap=\"butt\" stroke-linejoin=\"miter\">\n",
       "\t<path stroke='black'  d='M63.6,422.4 L63.6,413.4 M63.6,16.7 L63.6,25.7  '/>\t<g transform=\"translate(63.6,444.9)\" stroke=\"none\" fill=\"black\" font-family=\"Arial\" font-size=\"12.00\"  text-anchor=\"middle\">\n",
       "\t\t<text><tspan font-family=\"Arial\" > 2</tspan></text>\n",
       "\t</g>\n",
       "</g>\n",
       "<g fill=\"none\" color=\"black\" stroke=\"currentColor\" stroke-width=\"1.00\" stroke-linecap=\"butt\" stroke-linejoin=\"miter\">\n",
       "\t<path stroke='black'  d='M120.4,422.4 L120.4,413.4 M120.4,16.7 L120.4,25.7  '/>\t<g transform=\"translate(120.4,444.9)\" stroke=\"none\" fill=\"black\" font-family=\"Arial\" font-size=\"12.00\"  text-anchor=\"middle\">\n",
       "\t\t<text><tspan font-family=\"Arial\" > 4</tspan></text>\n",
       "\t</g>\n",
       "</g>\n",
       "<g fill=\"none\" color=\"black\" stroke=\"currentColor\" stroke-width=\"1.00\" stroke-linecap=\"butt\" stroke-linejoin=\"miter\">\n",
       "\t<path stroke='black'  d='M177.2,422.4 L177.2,413.4 M177.2,16.7 L177.2,25.7  '/>\t<g transform=\"translate(177.2,444.9)\" stroke=\"none\" fill=\"black\" font-family=\"Arial\" font-size=\"12.00\"  text-anchor=\"middle\">\n",
       "\t\t<text><tspan font-family=\"Arial\" > 6</tspan></text>\n",
       "\t</g>\n",
       "</g>\n",
       "<g fill=\"none\" color=\"black\" stroke=\"currentColor\" stroke-width=\"1.00\" stroke-linecap=\"butt\" stroke-linejoin=\"miter\">\n",
       "\t<path stroke='black'  d='M234.1,422.4 L234.1,413.4 M234.1,16.7 L234.1,25.7  '/>\t<g transform=\"translate(234.1,444.9)\" stroke=\"none\" fill=\"black\" font-family=\"Arial\" font-size=\"12.00\"  text-anchor=\"middle\">\n",
       "\t\t<text><tspan font-family=\"Arial\" > 8</tspan></text>\n",
       "\t</g>\n",
       "</g>\n",
       "<g fill=\"none\" color=\"black\" stroke=\"currentColor\" stroke-width=\"1.00\" stroke-linecap=\"butt\" stroke-linejoin=\"miter\">\n",
       "\t<path stroke='black'  d='M290.9,422.4 L290.9,413.4 M290.9,16.7 L290.9,25.7  '/>\t<g transform=\"translate(290.9,444.9)\" stroke=\"none\" fill=\"black\" font-family=\"Arial\" font-size=\"12.00\"  text-anchor=\"middle\">\n",
       "\t\t<text><tspan font-family=\"Arial\" > 10</tspan></text>\n",
       "\t</g>\n",
       "</g>\n",
       "<g fill=\"none\" color=\"black\" stroke=\"currentColor\" stroke-width=\"1.00\" stroke-linecap=\"butt\" stroke-linejoin=\"miter\">\n",
       "\t<path stroke='black'  d='M347.7,422.4 L347.7,413.4 M347.7,16.7 L347.7,25.7  '/>\t<g transform=\"translate(347.7,444.9)\" stroke=\"none\" fill=\"black\" font-family=\"Arial\" font-size=\"12.00\"  text-anchor=\"middle\">\n",
       "\t\t<text><tspan font-family=\"Arial\" > 12</tspan></text>\n",
       "\t</g>\n",
       "</g>\n",
       "<g fill=\"none\" color=\"black\" stroke=\"currentColor\" stroke-width=\"1.00\" stroke-linecap=\"butt\" stroke-linejoin=\"miter\">\n",
       "\t<path stroke='black'  d='M404.5,422.4 L404.5,413.4 M404.5,16.7 L404.5,25.7  '/>\t<g transform=\"translate(404.5,444.9)\" stroke=\"none\" fill=\"black\" font-family=\"Arial\" font-size=\"12.00\"  text-anchor=\"middle\">\n",
       "\t\t<text><tspan font-family=\"Arial\" > 14</tspan></text>\n",
       "\t</g>\n",
       "</g>\n",
       "<g fill=\"none\" color=\"black\" stroke=\"currentColor\" stroke-width=\"1.00\" stroke-linecap=\"butt\" stroke-linejoin=\"miter\">\n",
       "\t<path stroke='black'  d='M461.4,422.4 L461.4,413.4 M461.4,16.7 L461.4,25.7  '/>\t<g transform=\"translate(461.4,444.9)\" stroke=\"none\" fill=\"black\" font-family=\"Arial\" font-size=\"12.00\"  text-anchor=\"middle\">\n",
       "\t\t<text><tspan font-family=\"Arial\" > 16</tspan></text>\n",
       "\t</g>\n",
       "</g>\n",
       "<g fill=\"none\" color=\"black\" stroke=\"currentColor\" stroke-width=\"1.00\" stroke-linecap=\"butt\" stroke-linejoin=\"miter\">\n",
       "\t<path stroke='black'  d='M518.2,422.4 L518.2,413.4 M518.2,16.7 L518.2,25.7  '/>\t<g transform=\"translate(518.2,444.9)\" stroke=\"none\" fill=\"black\" font-family=\"Arial\" font-size=\"12.00\"  text-anchor=\"middle\">\n",
       "\t\t<text><tspan font-family=\"Arial\" > 18</tspan></text>\n",
       "\t</g>\n",
       "</g>\n",
       "<g fill=\"none\" color=\"black\" stroke=\"currentColor\" stroke-width=\"1.00\" stroke-linecap=\"butt\" stroke-linejoin=\"miter\">\n",
       "\t<path stroke='black'  d='M575.0,422.4 L575.0,413.4 M575.0,16.7 L575.0,25.7  '/>\t<g transform=\"translate(575.0,444.9)\" stroke=\"none\" fill=\"black\" font-family=\"Arial\" font-size=\"12.00\"  text-anchor=\"middle\">\n",
       "\t\t<text><tspan font-family=\"Arial\" > 20</tspan></text>\n",
       "\t</g>\n",
       "</g>\n",
       "<g fill=\"none\" color=\"black\" stroke=\"currentColor\" stroke-width=\"1.00\" stroke-linecap=\"butt\" stroke-linejoin=\"miter\">\n",
       "</g>\n",
       "<g fill=\"none\" color=\"black\" stroke=\"currentColor\" stroke-width=\"1.00\" stroke-linecap=\"butt\" stroke-linejoin=\"miter\">\n",
       "\t<path stroke='black'  d='M63.6,16.7 L63.6,422.4 L575.0,422.4 L575.0,16.7 L63.6,16.7 Z  '/></g>\n",
       "<g fill=\"none\" color=\"black\" stroke=\"currentColor\" stroke-width=\"1.00\" stroke-linecap=\"butt\" stroke-linejoin=\"miter\">\n",
       "\t<g transform=\"translate(17.6,219.6) rotate(270)\" stroke=\"none\" fill=\"black\" font-family=\"Arial\" font-size=\"12.00\"  text-anchor=\"middle\">\n",
       "\t\t<text><tspan font-family=\"Arial\" >sum</tspan></text>\n",
       "\t</g>\n",
       "</g>\n",
       "<g fill=\"none\" color=\"black\" stroke=\"currentColor\" stroke-width=\"1.00\" stroke-linecap=\"butt\" stroke-linejoin=\"miter\">\n",
       "\t<g transform=\"translate(319.3,471.9)\" stroke=\"none\" fill=\"black\" font-family=\"Arial\" font-size=\"12.00\"  text-anchor=\"middle\">\n",
       "\t\t<text><tspan font-family=\"Arial\" >p2</tspan></text>\n",
       "\t</g>\n",
       "</g>\n",
       "<g fill=\"none\" color=\"black\" stroke=\"currentColor\" stroke-width=\"1.00\" stroke-linecap=\"butt\" stroke-linejoin=\"miter\">\n",
       "</g>\n",
       "\t<g id=\"gnuplot_plot_1\" ><title>p2 dependency</title>\n",
       "<g fill=\"none\" color=\"black\" stroke=\"currentColor\" stroke-width=\"1.00\" stroke-linecap=\"butt\" stroke-linejoin=\"miter\">\n",
       "\t<g transform=\"translate(507.9,39.2)\" stroke=\"none\" fill=\"black\" font-family=\"Arial\" font-size=\"12.00\"  text-anchor=\"end\">\n",
       "\t\t<text><tspan font-family=\"Arial\" >p2 dependency</tspan></text>\n",
       "\t</g>\n",
       "</g>\n",
       "<g fill=\"none\" color=\"black\" stroke=\"currentColor\" stroke-width=\"1.00\" stroke-linecap=\"butt\" stroke-linejoin=\"miter\">\n",
       "\t<path stroke='rgb(148,   0, 211)'  d='M516.2,34.7 L558.4,34.7 M63.6,422.4 L120.4,377.3 L177.2,332.2 L234.1,287.2 L290.9,242.1 L347.7,197.0\n",
       "\t\tL404.5,151.9 L461.4,106.9 L518.2,61.8 L575.0,16.7  '/></g>\n",
       "\t</g>\n",
       "<g fill=\"none\" color=\"white\" stroke=\"rgb(148,   0, 211)\" stroke-width=\"2.00\" stroke-linecap=\"butt\" stroke-linejoin=\"miter\">\n",
       "</g>\n",
       "<g fill=\"none\" color=\"black\" stroke=\"currentColor\" stroke-width=\"2.00\" stroke-linecap=\"butt\" stroke-linejoin=\"miter\">\n",
       "</g>\n",
       "<g fill=\"none\" color=\"black\" stroke=\"black\" stroke-width=\"1.00\" stroke-linecap=\"butt\" stroke-linejoin=\"miter\">\n",
       "</g>\n",
       "<g fill=\"none\" color=\"black\" stroke=\"currentColor\" stroke-width=\"1.00\" stroke-linecap=\"butt\" stroke-linejoin=\"miter\">\n",
       "\t<path stroke='black'  d='M63.6,16.7 L63.6,422.4 L575.0,422.4 L575.0,16.7 L63.6,16.7 Z  '/></g>\n",
       "<g fill=\"none\" color=\"black\" stroke=\"currentColor\" stroke-width=\"1.00\" stroke-linecap=\"butt\" stroke-linejoin=\"miter\">\n",
       "</g>\n",
       "</g>\n",
       "</svg>\n",
       "\n"
      ],
      "text/plain": [
       "#<GnuplotRB::Plot:0x007fa4c186b1a0 @options=Hamster::Hash[:xlabel => \"p2\", :ylabel => \"sum\"], @datasets=Hamster::Vector[#<GnuplotRB::Dataset:0x007fa4c186aef8 @type=:datafile, @data=\"'ps_sum_plot.dat'\", @options=Hamster::Hash[:with => \"lines\", :title => \"p2 dependency\"]>], @cmd=\"plot \">"
      ]
     },
     "execution_count": 32,
     "metadata": {},
     "output_type": "execute_result"
    }
   ],
   "source": [
    "# plot results using Gnuplot\n",
    "require 'gnuplotrb'\n",
    "\n",
    "sim = Simulator.where(name: \"sample_simulator\").first\n",
    "\n",
    "dat_file = \"ps_sum_plot.dat\"\n",
    "io = File.open( dat_file, 'w')\n",
    "sim.parameter_sets.where(\"v.p1\"=>1.0, \"v.p3\"=>3.0).order_by(\"v.p2\" => :asc).each do |ps|\n",
    "  x = ps.v[\"p2\"]\n",
    "  y = ps.average_result(\"sum\").first\n",
    "  io.puts [x,y].join(' ')\n",
    "end\n",
    "io.close\n",
    "GnuplotRB::Plot.new([dat_file , with: 'lines', title: 'p2 dependency'], xlabel: \"p2\", ylabel: \"sum\")\n"
   ]
  },
  {
   "cell_type": "markdown",
   "metadata": {},
   "source": [
    "# Deleting items\n",
    "\n",
    "We are going to demonstrate how to delete unnecessary items in OACIS."
   ]
  },
  {
   "cell_type": "code",
   "execution_count": 38,
   "metadata": {
    "collapsed": false
   },
   "outputs": [
    {
     "ename": "NoMethodError",
     "evalue": "undefined method `runs' for nil:NilClass",
     "output_type": "error",
     "traceback": [
      "\u001b[31mNoMethodError\u001b[0m: undefined method `runs' for nil:NilClass",
      "\u001b[37m(pry):394:in `<main>'\u001b[0m",
      "\u001b[37m/Users/murase/.rbenv/versions/2.3.1/lib/ruby/gems/2.3.0/gems/pry-0.10.4/lib/pry/pry_instance.rb:355:in `eval'\u001b[0m",
      "\u001b[37m/Users/murase/.rbenv/versions/2.3.1/lib/ruby/gems/2.3.0/gems/pry-0.10.4/lib/pry/pry_instance.rb:355:in `evaluate_ruby'\u001b[0m",
      "\u001b[37m/Users/murase/.rbenv/versions/2.3.1/lib/ruby/gems/2.3.0/gems/pry-0.10.4/lib/pry/pry_instance.rb:323:in `handle_line'\u001b[0m",
      "\u001b[37m/Users/murase/.rbenv/versions/2.3.1/lib/ruby/gems/2.3.0/gems/pry-0.10.4/lib/pry/pry_instance.rb:243:in `block (2 levels) in eval'\u001b[0m",
      "\u001b[37m/Users/murase/.rbenv/versions/2.3.1/lib/ruby/gems/2.3.0/gems/pry-0.10.4/lib/pry/pry_instance.rb:242:in `catch'\u001b[0m",
      "\u001b[37m/Users/murase/.rbenv/versions/2.3.1/lib/ruby/gems/2.3.0/gems/pry-0.10.4/lib/pry/pry_instance.rb:242:in `block in eval'\u001b[0m",
      "\u001b[37m/Users/murase/.rbenv/versions/2.3.1/lib/ruby/gems/2.3.0/gems/pry-0.10.4/lib/pry/pry_instance.rb:241:in `catch'\u001b[0m",
      "\u001b[37m/Users/murase/.rbenv/versions/2.3.1/lib/ruby/gems/2.3.0/gems/pry-0.10.4/lib/pry/pry_instance.rb:241:in `eval'\u001b[0m",
      "\u001b[37m/Users/murase/.rbenv/versions/2.3.1/lib/ruby/gems/2.3.0/gems/iruby-0.2.9/lib/iruby/backend.rb:65:in `eval'\u001b[0m",
      "\u001b[37m/Users/murase/.rbenv/versions/2.3.1/lib/ruby/gems/2.3.0/gems/iruby-0.2.9/lib/iruby/backend.rb:12:in `eval'\u001b[0m",
      "\u001b[37m/Users/murase/.rbenv/versions/2.3.1/lib/ruby/gems/2.3.0/gems/iruby-0.2.9/lib/iruby/kernel.rb:87:in `execute_request'\u001b[0m",
      "\u001b[37m/Users/murase/.rbenv/versions/2.3.1/lib/ruby/gems/2.3.0/gems/iruby-0.2.9/lib/iruby/kernel.rb:47:in `dispatch'\u001b[0m",
      "\u001b[37m/Users/murase/.rbenv/versions/2.3.1/lib/ruby/gems/2.3.0/gems/iruby-0.2.9/lib/iruby/kernel.rb:37:in `run'\u001b[0m",
      "\u001b[37m/Users/murase/.rbenv/versions/2.3.1/lib/ruby/gems/2.3.0/gems/iruby-0.2.9/lib/iruby/command.rb:70:in `run_kernel'\u001b[0m",
      "\u001b[37m/Users/murase/.rbenv/versions/2.3.1/lib/ruby/gems/2.3.0/gems/iruby-0.2.9/lib/iruby/command.rb:34:in `run'\u001b[0m",
      "\u001b[37m/Users/murase/.rbenv/versions/2.3.1/lib/ruby/gems/2.3.0/gems/iruby-0.2.9/bin/iruby:5:in `<top (required)>'\u001b[0m",
      "\u001b[37m/Users/murase/.rbenv/versions/2.3.1/bin/iruby:23:in `load'\u001b[0m",
      "\u001b[37m/Users/murase/.rbenv/versions/2.3.1/bin/iruby:23:in `<main>'\u001b[0m"
     ]
    }
   ],
   "source": [
    "# call discard method to delete an item\n",
    "\n",
    "sim = Simulator.where(name: \"sample_simulator\").first\n",
    "ps = sim.find_parameter_set( \"p1\"=>1.0, \"p2\" => 2.0, \"p3\" => 3.0 )\n",
    "puts ps.runs.count                                       # => 5\n",
    "run = ps.runs.first                                         # Get the first run\n",
    "run.discard                                                     # Delete it\n",
    "puts ps.runs.count                                       # => 4.  The number of runs is decreased by 1.\n",
    "\n",
    "\n",
    "#  deleting all ParameterSet whose p2 is larger than 10.0\n",
    "p sim.parameter_sets.gt(\"v.p2\" => 10.0).exists?             # => true\n",
    "sim.parameter_sets.gt( \"v.p2\" => 10.0 ).each do |ps|\n",
    "  ps.discard\n",
    "end\n",
    "sim.parameter_sets.gt(\"v.p2\" => 10.0).exists?             # => false\n",
    "# Visit the page of OACIS and verify that ParameterSets have been deleted."
   ]
  }
 ],
 "metadata": {
  "anaconda-cloud": {},
  "kernelspec": {
   "display_name": "Ruby 2.3.1",
   "language": "ruby",
   "name": "ruby"
  },
  "language_info": {
   "file_extension": ".rb",
   "mimetype": "application/x-ruby",
   "name": "ruby",
   "version": "2.3.1"
  },
  "nav_menu": {},
  "toc": {
   "navigate_menu": true,
   "number_sections": true,
   "sideBar": true,
   "threshold": 6,
   "toc_cell": false,
   "toc_section_display": "block",
   "toc_window_display": false
  }
 },
 "nbformat": 4,
 "nbformat_minor": 1
}
