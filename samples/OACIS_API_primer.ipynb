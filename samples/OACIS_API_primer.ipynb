{
 "cells": [
  {
   "cell_type": "code",
   "execution_count": 1,
   "metadata": {
    "collapsed": false
   },
   "outputs": [
    {
     "data": {
      "application/javascript": [
       "if(window['d3'] === undefined ||\n",
       "   window['Nyaplot'] === undefined){\n",
       "    var path = {\"d3\":\"https://cdnjs.cloudflare.com/ajax/libs/d3/3.5.5/d3.min\",\"downloadable\":\"http://cdn.rawgit.com/domitry/d3-downloadable/master/d3-downloadable\"};\n",
       "\n",
       "\n",
       "\n",
       "    var shim = {\"d3\":{\"exports\":\"d3\"},\"downloadable\":{\"exports\":\"downloadable\"}};\n",
       "\n",
       "    require.config({paths: path, shim:shim});\n",
       "\n",
       "\n",
       "require(['d3'], function(d3){window['d3']=d3;console.log('finished loading d3');require(['downloadable'], function(downloadable){window['downloadable']=downloadable;console.log('finished loading downloadable');\n",
       "\n",
       "\tvar script = d3.select(\"head\")\n",
       "\t    .append(\"script\")\n",
       "\t    .attr(\"src\", \"http://cdn.rawgit.com/domitry/Nyaplotjs/master/release/nyaplot.js\")\n",
       "\t    .attr(\"async\", true);\n",
       "\n",
       "\tscript[0][0].onload = script[0][0].onreadystatechange = function(){\n",
       "\n",
       "\n",
       "\t    var event = document.createEvent(\"HTMLEvents\");\n",
       "\t    event.initEvent(\"load_nyaplot\",false,false);\n",
       "\t    window.dispatchEvent(event);\n",
       "\t    console.log('Finished loading Nyaplotjs');\n",
       "\n",
       "\t};\n",
       "\n",
       "\n",
       "});});\n",
       "}\n"
      ],
      "text/plain": [
       "\"if(window['d3'] === undefined ||\\n   window['Nyaplot'] === undefined){\\n    var path = {\\\"d3\\\":\\\"https://cdnjs.cloudflare.com/ajax/libs/d3/3.5.5/d3.min\\\",\\\"downloadable\\\":\\\"http://cdn.rawgit.com/domitry/d3-downloadable/master/d3-downloadable\\\"};\\n\\n\\n\\n    var shim = {\\\"d3\\\":{\\\"exports\\\":\\\"d3\\\"},\\\"downloadable\\\":{\\\"exports\\\":\\\"downloadable\\\"}};\\n\\n    require.config({paths: path, shim:shim});\\n\\n\\nrequire(['d3'], function(d3){window['d3']=d3;console.log('finished loading d3');require(['downloadable'], function(downloadable){window['downloadable']=downloadable;console.log('finished loading downloadable');\\n\\n\\tvar script = d3.select(\\\"head\\\")\\n\\t    .append(\\\"script\\\")\\n\\t    .attr(\\\"src\\\", \\\"http://cdn.rawgit.com/domitry/Nyaplotjs/master/release/nyaplot.js\\\")\\n\\t    .attr(\\\"async\\\", true);\\n\\n\\tscript[0][0].onload = script[0][0].onreadystatechange = function(){\\n\\n\\n\\t    var event = document.createEvent(\\\"HTMLEvents\\\");\\n\\t    event.initEvent(\\\"load_nyaplot\\\",false,false);\\n\\t    window.dispatchEvent(event);\\n\\t    console.log('Finished loading Nyaplotjs');\\n\\n\\t};\\n\\n\\n});});\\n}\\n\""
      ]
     },
     "metadata": {},
     "output_type": "display_data"
    },
    {
     "data": {
      "text/plain": [
       "true"
      ]
     },
     "execution_count": 1,
     "metadata": {},
     "output_type": "execute_result"
    }
   ],
   "source": [
    "# First of all, you need to require the OACIS environment. Always run the following line before you call the OAICS APIs.\n",
    "require File.join(ENV['OACIS_ROOT'], 'config/environment')"
   ]
  },
  {
   "cell_type": "markdown",
   "metadata": {},
   "source": [
    "# Prerequisites\n",
    "\n",
    "Before running the following samples, please prepare a sample simulator as follows.\n",
    "\n",
    "- Name: `sample_simulator`\n",
    "- Parameter definitions:\n",
    "    - \"p1\", Float, 1.0\n",
    "    - \"p2\", Float, 2.0\n",
    "    - \"p3\", Float, 3.0\n",
    "- Command:\n",
    "    - `ruby -r json -e 'j = JSON.load(File.read(\"_input.json\")); sum=%w(p1 p2 p3).map{|k| j[k]}.inject(:+); puts({sum: sum}.to_json)' > _output.json`\n",
    "- Input type: JSON\n",
    "- Executable_on : localhost"
   ]
  },
  {
   "cell_type": "markdown",
   "metadata": {},
   "source": [
    "# Creating runs\n",
    "\n",
    "First, we show how to create parameter sets and runs."
   ]
  },
  {
   "cell_type": "code",
   "execution_count": 2,
   "metadata": {
    "collapsed": false
   },
   "outputs": [
    {
     "data": {
      "text/plain": [
       "#<ParameterSet _id: 5805c28eb93f9677ec38aa6e, created_at: 2016-10-18 06:34:54 UTC, updated_at: 2016-10-18 06:38:50 UTC, v: {\"p1\"=>10.0, \"p2\"=>20.0, \"p3\"=>30.0}, runs_status_count_cache: {\"finished\"=>5, \"created\"=>0, \"submitted\"=>0, \"running\"=>0, \"failed\"=>0}, progress_rate_cache: -1000000, to_be_destroyed: false, simulator_id: BSON::ObjectId('5805c082b93f969922b863a1')>"
      ]
     },
     "execution_count": 2,
     "metadata": {},
     "output_type": "execute_result"
    }
   ],
   "source": [
    "sim = Simulator.where(name: \"sample_simulator\").first\n",
    "ps = sim.find_or_create_parameter_set( {\"p1\"=>10.0, \"p2\"=>20.0, \"p3\"=>30.0} )  # created a parameter set"
   ]
  },
  {
   "cell_type": "code",
   "execution_count": 3,
   "metadata": {
    "collapsed": false
   },
   "outputs": [
    {
     "data": {
      "text/plain": [
       "[BSON::ObjectId('5805c373b93f9677ec38aa6f'), BSON::ObjectId('5805c373b93f9677ec38aa70'), BSON::ObjectId('5805c373b93f9677ec38aa71'), BSON::ObjectId('5805c373b93f9677ec38aa72'), BSON::ObjectId('5805c373b93f9677ec38aa73')]"
      ]
     },
     "execution_count": 3,
     "metadata": {},
     "output_type": "execute_result"
    }
   ],
   "source": [
    "# When creating runs, you need to specify the host to which the jobs are submitted to.\n",
    "# We also need to set \"host_parameters\" which specify the parameters required by job schedulers.\n",
    "\n",
    "host = Host.where(name: \"localhost\").first\n",
    "host_param = host.default_host_parameters\n",
    "new_runs = ps.find_or_create_runs_upto(5, submitted_to: host, host_param: host_param )\n",
    "new_run_ids = new_runs.map(&:id)"
   ]
  },
  {
   "cell_type": "code",
   "execution_count": 4,
   "metadata": {
    "collapsed": false
   },
   "outputs": [
    {
     "data": {
      "text/plain": [
       "250"
      ]
     },
     "execution_count": 4,
     "metadata": {},
     "output_type": "execute_result"
    }
   ],
   "source": [
    "# A sample to make multiple parameter sets\n",
    "\n",
    "sim = Simulator.where(name: \"sample_simulator\").first\n",
    "\n",
    "p1_values = [1.0,2.0,3.0,4.0,5.0]                                         # a standard way to make an array\n",
    "p2_values = 2.0.step(20.0, 2.0)                                            # Numeric#step method is also useful to make an enumerator. 2.0, 4.0, 6.0, ... 20.0\n",
    "base_param = sim.default_parameters                                  # => {\"p1\"=>1.0, \"p2\"=>2.0, \"p3\"=>3.0}\n",
    "\n",
    "host = Host.where(name: \"localhost\").first\n",
    "host_param = host.default_host_parameters\n",
    "\n",
    "created = []\n",
    "\n",
    "# We are going to fix the parameters other than \"p1\" and \"p2\"\n",
    "p1_values.each do |p1|                  # iterate over p1\n",
    "  p2_values.each do |p2|                # iterate over p2\n",
    "    param = base_param.merge({\"p1\"=>p1,\"p2\"=>p2})    #   => {\"p1\"=>p1, \"p2\"=>p2, \"p3\"=>3.0}\n",
    "    ps = sim.find_or_create_parameter_set( param )          #   => ParameterSet of the given parameters\n",
    "    runs = ps.find_or_create_runs_upto(5, submitted_to: host, host_param: host_param)  # creating runs under given parameter sets\n",
    "    created += runs                           # pushing runs into an array to refer them later\n",
    "  end\n",
    "end\n",
    "\n",
    "created.size                                     # 250 runs are created in total"
   ]
  },
  {
   "cell_type": "markdown",
   "metadata": {},
   "source": [
    "# Getting the results\n",
    "\n",
    "Here, we are going to investigate the dependency of \"p1\" and \"p2\" against the results.\n",
    "Run the below cells after the above jobs are finished."
   ]
  },
  {
   "cell_type": "code",
   "execution_count": 5,
   "metadata": {
    "collapsed": false
   },
   "outputs": [
    {
     "name": "stdout",
     "output_type": "stream",
     "text": [
      "\"sample_simulator\"\n",
      "\"ruby -r json -e 'j = JSON.load(File.read(\\\"_input.json\\\")); sum=%w(p1 p2 p3).map{|k| j[k]}.inject(:+); puts({sum: sum}.to_json)' > _output.json\"\n",
      "[\"localhost\"]\n",
      "255\n",
      "255\n"
     ]
    },
    {
     "data": {
      "text/plain": [
       "255"
      ]
     },
     "execution_count": 5,
     "metadata": {},
     "output_type": "execute_result"
    }
   ],
   "source": [
    "# First, let us try to get runs by specifying parameters.\n",
    "sim = Simulator.where(name: \"sample_simulator\").first\n",
    "\n",
    "# Accessing the attributes of simulator\n",
    "p sim.name\n",
    "p sim.command\n",
    "p sim.executable_on.map(&:name)\n",
    "\n",
    "# count the number of runs of this simulator\n",
    "p sim.runs.count\n",
    "p sim.runs.where(status: :finished).count"
   ]
  },
  {
   "cell_type": "code",
   "execution_count": 6,
   "metadata": {
    "collapsed": false
   },
   "outputs": [
    {
     "name": "stdout",
     "output_type": "stream",
     "text": [
      "BSON::ObjectId('5805c089b93f969922b863a9')\n",
      "{\"p1\"=>1.0, \"p2\"=>2.0, \"p3\"=>3.0}\n",
      "5\n",
      "5\n",
      "[6.0, 5]\n"
     ]
    },
    {
     "data": {
      "text/plain": [
       "[6.0, 5]"
      ]
     },
     "execution_count": 6,
     "metadata": {},
     "output_type": "execute_result"
    }
   ],
   "source": [
    "# ParameterSet of {p1: 1.0, p2: 2.0, p3: 3.0}\n",
    "sim = Simulator.where(name: \"sample_simulator\").first\n",
    "ps = sim.find_parameter_set( p1: 1.0, p2: 2.0, p3: 3.0 )\n",
    "\n",
    "#  Here are some examples of fields of ParameterSet\n",
    "p ps.id\n",
    "p ps.v                                                                         # values of parameters are stored in the field `v` as a Hash\n",
    "p ps.runs.count                                                         # number of runs\n",
    "p ps.runs.where( status: :finished ).count            # number of finished runs\n",
    "p ps.average_result(\"sum\")                                   # => [6.0, 5].  It returns the average of result[\"sum\"] and the number of runs"
   ]
  },
  {
   "cell_type": "code",
   "execution_count": 7,
   "metadata": {
    "collapsed": false
   },
   "outputs": [
    {
     "name": "stdout",
     "output_type": "stream",
     "text": [
      "BSON::ObjectId('5805c168b93f969922b863af')\n",
      ":finished\n",
      "{\"sum\"=>6.0}\n",
      "0.05\n",
      "Tue, 18 Oct 2016 06:30:01 +0000\n",
      "#<Pathname:/Volumes/MacintoshHD3/oacis/public/Result_development/5805c082b93f969922b863a1/5805c089b93f969922b863a9/5805c168b93f969922b863af>\n"
     ]
    },
    {
     "data": {
      "text/plain": [
       "#<Pathname:/Volumes/MacintoshHD3/oacis/public/Result_development/5805c082b93f969922b863a1/5805c089b93f969922b863a9/5805c168b93f969922b863af>"
      ]
     },
     "execution_count": 7,
     "metadata": {},
     "output_type": "execute_result"
    }
   ],
   "source": [
    "# Get a Run\n",
    "sim = Simulator.where(name: \"sample_simulator\").first\n",
    "ps = sim.find_parameter_set( p1: 1.0, p2: 2.0, p3: 3.0 )\n",
    "run = ps.runs.first\n",
    "\n",
    "# Here are some examples of fields of Run\n",
    "p run.id                               # returns ID\n",
    "p run.status                       # status can be either [:created, :submitted, :running, :failed, :finished]\n",
    "p run.result                        # =>{\"sum\"=>6.0}   If the simulator print `_output.json` during the job, the contents of the file are stored in this field.\n",
    "p run.cpu_time                  # `cpu_time` and `real_time`  methods are available to get the CPU and elapsed times.\n",
    "p run.finished_at               # the datetime when the job is finished.\n",
    "p run.dir                              # return the directory where the simulation results are stored."
   ]
  },
  {
   "cell_type": "code",
   "execution_count": 8,
   "metadata": {
    "collapsed": false
   },
   "outputs": [
    {
     "name": "stdout",
     "output_type": "stream",
     "text": [
      "p2 == 10.0 and p3 == 3.0\n",
      "{\"p1\"=>1.0, \"p2\"=>10.0, \"p3\"=>3.0}\n",
      "{\"p1\"=>5.0, \"p2\"=>10.0, \"p3\"=>3.0}\n",
      "{\"p1\"=>4.0, \"p2\"=>10.0, \"p3\"=>3.0}\n",
      "{\"p1\"=>3.0, \"p2\"=>10.0, \"p3\"=>3.0}\n",
      "{\"p1\"=>2.0, \"p2\"=>10.0, \"p3\"=>3.0}\n",
      "\n",
      "p1 <= 2 and p2 > 15.0 and p3 == 3.0\n",
      "{\"p1\"=>1.0, \"p2\"=>16.0, \"p3\"=>3.0}\n",
      "{\"p1\"=>1.0, \"p2\"=>18.0, \"p3\"=>3.0}\n",
      "{\"p1\"=>1.0, \"p2\"=>20.0, \"p3\"=>3.0}\n",
      "{\"p1\"=>2.0, \"p2\"=>20.0, \"p3\"=>3.0}\n",
      "{\"p1\"=>2.0, \"p2\"=>18.0, \"p3\"=>3.0}\n",
      "{\"p1\"=>2.0, \"p2\"=>16.0, \"p3\"=>3.0}\n",
      "\n",
      "p1 is in [2,4] and 4.5 and p2==20\n",
      "{\"p1\"=>4.0, \"p2\"=>20.0, \"p3\"=>3.0}\n",
      "{\"p1\"=>2.0, \"p2\"=>20.0, \"p3\"=>3.0}\n",
      "\n",
      "p1 <= 3 and p2 <= 6.0, ordered by p1 in ascending order and p2 in descending order\n",
      "{\"p1\"=>1.0, \"p2\"=>2.0, \"p3\"=>3.0}\n",
      "{\"p1\"=>1.0, \"p2\"=>4.0, \"p3\"=>3.0}\n",
      "{\"p1\"=>1.0, \"p2\"=>6.0, \"p3\"=>3.0}\n",
      "{\"p1\"=>2.0, \"p2\"=>2.0, \"p3\"=>3.0}\n",
      "{\"p1\"=>2.0, \"p2\"=>4.0, \"p3\"=>3.0}\n",
      "{\"p1\"=>2.0, \"p2\"=>6.0, \"p3\"=>3.0}\n",
      "{\"p1\"=>3.0, \"p2\"=>2.0, \"p3\"=>3.0}\n",
      "{\"p1\"=>3.0, \"p2\"=>4.0, \"p3\"=>3.0}\n",
      "{\"p1\"=>3.0, \"p2\"=>6.0, \"p3\"=>3.0}\n",
      "\n"
     ]
    }
   ],
   "source": [
    "# Search parameter sets by condition\n",
    "sim = Simulator.where(name: \"sample_simulator\").first\n",
    "\n",
    "# The followings are some example queries which you might find useful.\n",
    "# Since a ParameterSet contains the parameters in the field of `v`, you need to issue an query against `v`.\n",
    "# See http://www.rubydoc.info/github/mongoid/origin/Origin/Selectable\n",
    "\n",
    "# Find ParameterSets where p2 is 10.0 and p3 is 3.0.\n",
    "puts \"p2 == 10.0 and p3 == 3.0\"\n",
    "sim.parameter_sets.where( \"v.p2\"=> 10.0, \"v.p3\" => 3.0 ).each {|ps| p ps.v }\n",
    "puts \"\"\n",
    "\n",
    "# examples of other conditions, such as \">=\" or \">\".\n",
    "puts \"p1 <= 2 and p2 > 15.0 and p3 == 3.0\"\n",
    "sim.parameter_sets.lte( \"v.p1\"=> 2 ).gt( \"v.p2\" => 15.0 ).where(\"v.p3\" => 3.0).each {|ps| p ps.v }\n",
    "puts \"\"\n",
    "\n",
    "# p1 is in the range 2..4\"\n",
    "puts \"p1 is in [2,4] and 4.5 and p2==20\"\n",
    "sim.parameter_sets.in(\"v.p1\" => [2,4]).where(\"v.p2\" => 20).each {|ps| p ps.v }\n",
    "puts \"\"\n",
    "\n",
    "# sort by p1 in ascending order\n",
    "puts \"p1 <= 3 and p2 <= 6.0, ordered by p1 in ascending order and p2 in descending order\"\n",
    "sim.parameter_sets.lte( \"v.p1\" => 3, \"v.p2\" => 6.0 ).order_by(\"v.p1\" => :asc, \"v.p2\" => :dsc).each {|ps| p ps.v }\n",
    "puts \"\""
   ]
  }
 ],
 "metadata": {
  "anaconda-cloud": {},
  "kernelspec": {
   "display_name": "Ruby 2.3.1",
   "language": "ruby",
   "name": "ruby"
  },
  "language_info": {
   "file_extension": ".rb",
   "mimetype": "application/x-ruby",
   "name": "ruby",
   "version": "2.3.1"
  }
 },
 "nbformat": 4,
 "nbformat_minor": 1
}
